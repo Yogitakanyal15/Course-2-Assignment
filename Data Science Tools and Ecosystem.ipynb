{
 "cells": [
  {
   "cell_type": "markdown",
   "id": "a304e826-139b-403c-9029-1d2d1adfa26d",
   "metadata": {},
   "source": [
    "# Data Science Tools and Ecosystem"
   ]
  },
  {
   "cell_type": "markdown",
   "id": "7f12d7be-b734-445a-9595-cc28ba63b868",
   "metadata": {},
   "source": [
    "In this notebook, Data Science Tools and Ecosystem are summarized."
   ]
  },
  {
   "cell_type": "markdown",
   "id": "9523894f-cc05-4123-9414-ad63b4613288",
   "metadata": {},
   "source": [
    "Some of the popular languages that Data Scientists use are:\n",
    "1. Python\n",
    "2. R\n",
    "3. Java\n",
    "4. C++\n",
    "5. Javascript"
   ]
  },
  {
   "cell_type": "markdown",
   "id": "d861082d-aa38-4ad0-8958-09644ee72ea5",
   "metadata": {},
   "source": [
    "Some of the commonly used libraries used by Data Scientists include:\n",
    "1. scikit-learn\n",
    "2. matplotlib\n",
    "3. numpy\n",
    "4. pandas"
   ]
  },
  {
   "cell_type": "markdown",
   "id": "c69400b9-5048-40f6-ab2d-a62712fcd2ec",
   "metadata": {},
   "source": [
    "| __Data Science Tools__ |\n",
    "|------------------------|\n",
    "| VS Code |\n",
    "| RStudio |\n",
    "| Google Collab |\n",
    "| Jupyter Notebook |"
   ]
  },
  {
   "cell_type": "markdown",
   "id": "e1c51bd8-8c79-480c-ba75-ba2277ae2f48",
   "metadata": {},
   "source": [
    "### Below are a few examples of evaluating arithmetic expressions in Python\n",
    "- a+b\n",
    "- a-b\n",
    "- a*b\n",
    "- a/b"
   ]
  },
  {
   "cell_type": "code",
   "execution_count": 4,
   "id": "bf77f419-b66f-40a4-81ba-d45d6170c744",
   "metadata": {},
   "outputs": [
    {
     "data": {
      "text/plain": [
       "17"
      ]
     },
     "execution_count": 4,
     "metadata": {},
     "output_type": "execute_result"
    }
   ],
   "source": [
    "# This a simple arithmetic expression to mutiply then add integers\n",
    "(3*4)+5"
   ]
  },
  {
   "cell_type": "code",
   "execution_count": 5,
   "id": "26351e92-a54e-4c5b-99ec-1dd80f5da372",
   "metadata": {},
   "outputs": [
    {
     "data": {
      "text/plain": [
       "3.3333333333333335"
      ]
     },
     "execution_count": 5,
     "metadata": {},
     "output_type": "execute_result"
    }
   ],
   "source": [
    "# This will convert 200 minutes to hours by diving by 60\n",
    "200/60"
   ]
  },
  {
   "cell_type": "markdown",
   "id": "bef96d8c-c812-4f77-9f73-d28b14fb13cd",
   "metadata": {},
   "source": [
    "## Author\n",
    "   Yogita"
   ]
  },
  {
   "cell_type": "code",
   "execution_count": null,
   "id": "01525af7-09cf-418d-8e64-5f33a27f12f7",
   "metadata": {},
   "outputs": [],
   "source": []
  }
 ],
 "metadata": {
  "kernelspec": {
   "display_name": "Python 3 (ipykernel)",
   "language": "python",
   "name": "python3"
  },
  "language_info": {
   "codemirror_mode": {
    "name": "ipython",
    "version": 3
   },
   "file_extension": ".py",
   "mimetype": "text/x-python",
   "name": "python",
   "nbconvert_exporter": "python",
   "pygments_lexer": "ipython3",
   "version": "3.11.7"
  }
 },
 "nbformat": 4,
 "nbformat_minor": 5
}
