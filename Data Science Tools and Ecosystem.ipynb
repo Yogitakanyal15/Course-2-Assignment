{
 "cells": [
  {
   "cell_type": "markdown",
   "id": "a304e826-139b-403c-9029-1d2d1adfa26d",
   "metadata": {},
   "source": [
    "# Data Science Tools and Ecosystem"
   ]
  },
  {
   "cell_type": "markdown",
   "id": "7f12d7be-b734-445a-9595-cc28ba63b868",
   "metadata": {},
   "source": [
    "In this notebook, Data Science Tools and Ecosystem are summarized."
   ]
  },
  {
   "cell_type": "markdown",
   "id": "9523894f-cc05-4123-9414-ad63b4613288",
   "metadata": {},
   "source": [
    "Some of the popular languages that Data Scientists use are:\n",
    "1. Python\n",
    "2. R\n",
    "3. Java\n",
    "4. C++\n",
    "5. Javascript"
   ]
  },
  {
   "cell_type": "markdown",
   "id": "d4ec1f5c-756d-4b4f-ac50-8f720fe71136",
   "metadata": {},
   "source": [
    "Some of the commonly used libraries used by Data Scientists include:\n",
    "1. Python\n",
    "2. R\n",
    "3. Scala\n",
    "4. C++\n",
    "5. Visual Basic"
   ]
  },
  {
   "cell_type": "markdown",
   "id": "57481132-5365-4424-80c6-13416e689562",
   "metadata": {},
   "source": [
    "| __Data Science Tools__ |\n",
    "|------------------------|\n",
    "| Anaconda |\n",
    "| RStudio |\n",
    "| Spyder |\n",
    "| Jupyter Notebook |"
   ]
  },
  {
   "cell_type": "markdown",
   "id": "e1c51bd8-8c79-480c-ba75-ba2277ae2f48",
   "metadata": {},
   "source": [
    "### Below are a few examples of evaluating arithmetic expressions in Python\n",
    "- a+b\n",
    "- a-b\n",
    "- a*b\n",
    "- a/b"
   ]
  },
  {
   "cell_type": "code",
   "execution_count": 4,
   "id": "bf77f419-b66f-40a4-81ba-d45d6170c744",
   "metadata": {},
   "outputs": [
    {
     "data": {
      "text/plain": [
       "17"
      ]
     },
     "execution_count": 4,
     "metadata": {},
     "output_type": "execute_result"
    }
   ],
   "source": [
    "# This a simple arithmetic expression to mutiply then add integers\n",
    "(3*4)+5"
   ]
  },
  {
   "cell_type": "code",
   "execution_count": 1,
   "id": "26351e92-a54e-4c5b-99ec-1dd80f5da372",
   "metadata": {},
   "outputs": [
    {
     "data": {
      "text/plain": [
       "3"
      ]
     },
     "execution_count": 1,
     "metadata": {},
     "output_type": "execute_result"
    }
   ],
   "source": [
    "# This will convert 200 minutes to hours by diving by 60\n",
    "200//60"
   ]
  },
  {
   "cell_type": "markdown",
   "id": "b293048d-07cb-4bfa-802f-0f722da45b2f",
   "metadata": {},
   "source": [
    "__Objectives:__\n",
    "- Add comments to code cells\n",
    "- Create markdown cells\n",
    "- Add ordered and unordered lists to markdown cells\n",
    "- Format content of markdown cells with heading styles"
   ]
  },
  {
   "cell_type": "markdown",
   "id": "9149e03e-d6a5-404d-918d-2f5603208498",
   "metadata": {},
   "source": [
    "## Author(s)\n",
    "   Yogita Kanyal"
   ]
  },
  {
   "cell_type": "code",
   "execution_count": null,
   "id": "01525af7-09cf-418d-8e64-5f33a27f12f7",
   "metadata": {},
   "outputs": [],
   "source": []
  }
 ],
 "metadata": {
  "kernelspec": {
   "display_name": "Python 3 (ipykernel)",
   "language": "python",
   "name": "python3"
  },
  "language_info": {
   "codemirror_mode": {
    "name": "ipython",
    "version": 3
   },
   "file_extension": ".py",
   "mimetype": "text/x-python",
   "name": "python",
   "nbconvert_exporter": "python",
   "pygments_lexer": "ipython3",
   "version": "3.11.7"
  }
 },
 "nbformat": 4,
 "nbformat_minor": 5
}
